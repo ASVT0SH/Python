{
 "cells": [
  {
   "cell_type": "code",
   "execution_count": 2,
   "metadata": {},
   "outputs": [
    {
     "name": "stdout",
     "output_type": "stream",
     "text": [
      "2.25\n"
     ]
    }
   ],
   "source": [
    "\"\"\"Lambda function to calculate kinetic energy of a particle\"\"\"\n",
    "kinetic_energy = lambda mass, velocity: 0.5 * mass * velocity ** 2\n",
    "\n",
    "print(kinetic_energy(0.5, 3))"
   ]
  },
  {
   "cell_type": "code",
   "execution_count": 3,
   "metadata": {},
   "outputs": [
    {
     "name": "stdout",
     "output_type": "stream",
     "text": [
      "4.5\n"
     ]
    }
   ],
   "source": [
    "\"\"\"Lambda function to calculate energy in E = mc^2\"\"\"\n",
    "energy = lambda mass, c: mass * c ** 2\n",
    "\n",
    "print(energy(0.5, 3))"
   ]
  },
  {
   "cell_type": "code",
   "execution_count": 4,
   "metadata": {},
   "outputs": [
    {
     "name": "stdout",
     "output_type": "stream",
     "text": [
      "2.5938888888888885e-12\n"
     ]
    }
   ],
   "source": [
    "\"\"\"Lambda function to calculate gravitational force\"\"\"\n",
    "gravitational_force = lambda mass1, mass2, distance: 6.67e-11 * mass1 * mass2 / distance ** 2\n",
    "\n",
    "print(gravitational_force(0.5, 0.7, 3))"
   ]
  },
  {
   "cell_type": "code",
   "execution_count": 6,
   "metadata": {},
   "outputs": [
    {
     "name": "stdout",
     "output_type": "stream",
     "text": [
      "['JAN', 'FEB', 'MAR', 'APR', 'MAY', 'JUN', 'JUL', 'AUG', 'SEP', 'OCT', 'NOV', 'DEC']\n"
     ]
    }
   ],
   "source": [
    "\"\"\"Lambda function to create abbreviations for each month from a list of months\"\"\"\n",
    "months = ['January', 'February', 'March', 'April', 'May', 'June', 'July', 'August', 'September', 'October', 'November', 'December']\n",
    "abbreviations = list(map(lambda month: month[:3].upper(), months))\n",
    "\n",
    "print(abbreviations)\n",
    "#abbreviations is not an anonymous function, it holds the list that was returned by the map function \n",
    "#map function takes a function and a list as arguments and returns a list as long as list() is used.\n",
    "#map contains the lambda function "
   ]
  }
 ],
 "metadata": {
  "kernelspec": {
   "display_name": "Python 3",
   "language": "python",
   "name": "python3"
  },
  "language_info": {
   "codemirror_mode": {
    "name": "ipython",
    "version": 3
   },
   "file_extension": ".py",
   "mimetype": "text/x-python",
   "name": "python",
   "nbconvert_exporter": "python",
   "pygments_lexer": "ipython3",
   "version": "3.11.0"
  },
  "orig_nbformat": 4,
  "vscode": {
   "interpreter": {
    "hash": "52634da84371cba311ea128a5ea7cdc41ff074b781779e754b270ff9f8153cee"
   }
  }
 },
 "nbformat": 4,
 "nbformat_minor": 2
}
