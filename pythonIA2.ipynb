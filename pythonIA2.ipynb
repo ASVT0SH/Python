{
 "cells": [
  {
   "cell_type": "code",
   "execution_count": 1,
   "metadata": {},
   "outputs": [
    {
     "name": "stdout",
     "output_type": "stream",
     "text": [
      "415-555-4242 is a phone number:\n",
      "True\n",
      "Moshi Moshi is a phone number:\n",
      "False\n"
     ]
    }
   ],
   "source": [
    "def isPhoneNumber(text):\n",
    "    if len(text) != 12:\n",
    "        return False\n",
    "    for i in range(0, 3):\n",
    "        if not text[i].isdecimal():\n",
    "            return False\n",
    "    if text[3] != '-':\n",
    "        return False\n",
    "    for i in range(4, 7):\n",
    "        if not text[i].isdecimal():\n",
    "            return False\n",
    "    if text[7] != '-':\n",
    "        return False\n",
    "    for i in range(8, 12):\n",
    "        if not text[i].isdecimal():\n",
    "            return False\n",
    "    return True\n",
    "print('415-555-4242 is a phone number:')\n",
    "print(isPhoneNumber('415-555-4242'))\n",
    "print('Moshi Moshi is a phone number:')\n",
    "print(isPhoneNumber('Moshi Moshi'))"
   ]
  },
  {
   "cell_type": "code",
   "execution_count": 14,
   "metadata": {},
   "outputs": [
    {
     "name": "stdout",
     "output_type": "stream",
     "text": [
      "Phone number found: 312-311-7979 \n"
     ]
    }
   ],
   "source": [
    "import re\n",
    "phone_Number_Regex = re.compile(r'(\\d\\d\\d-\\d\\d\\d-\\d\\d\\d\\d)|(\\d\\d-\\d\\d\\d\\d\\d\\d\\d\\d\\d\\d)')\n",
    "txt = input()\n",
    "match_obj = phone_Number_Regex.search(txt)\n",
    "\n",
    "print(f\"Phone number found: {match_obj.group()} \")"
   ]
  },
  {
   "cell_type": "code",
   "execution_count": 18,
   "metadata": {},
   "outputs": [
    {
     "name": "stdout",
     "output_type": "stream",
     "text": [
      "Stop laughing ha\n"
     ]
    }
   ],
   "source": [
    "import re\n",
    "\n",
    "reg = re.compile(r\"(ha){1,}\") #use ? after {} for non greedy\n",
    "strg = input()\n",
    "mo = reg.search(strg)\n",
    "\n",
    "if mo != None:\n",
    "    print(f\"Stop laughing {mo.group()}\")\n",
    "else:\n",
    "    print(\"start laughing\")\n",
    "\n"
   ]
  },
  {
   "cell_type": "code",
   "execution_count": 2,
   "metadata": {},
   "outputs": [
    {
     "name": "stdout",
     "output_type": "stream",
     "text": [
      "312-931-9191\n"
     ]
    }
   ],
   "source": [
    "import re\n",
    "\n",
    "phregex = re.compile(r'''\n",
    "(\\d{3}|\\(\\d{3}\\))?\n",
    "(\\s|-|\\.)?\n",
    "\\d{3}\n",
    "(\\s|-|\\.)\n",
    "\\d{4}\n",
    "''',re.VERBOSE|re.IGNORECASE|re.DOTALL)\n",
    "\n",
    "mo = phregex.search(\"Hello my phone is 312-931-9191\")\n",
    "print(mo.group())"
   ]
  },
  {
   "cell_type": "code",
   "execution_count": 4,
   "metadata": {},
   "outputs": [
    {
     "name": "stdout",
     "output_type": "stream",
     "text": [
      "<class '__main__.point'>\n",
      "<__main__.point object at 0x0000020EE4B0F390>\n",
      "4.0 5.0\n"
     ]
    }
   ],
   "source": [
    "class point:\n",
    "    \"\"\"Represents a point in 2D space\"\"\"\n",
    "    \n",
    "print(point)\n",
    "blank = point()\n",
    "print(blank)\n",
    "blank.x = 4.0\n",
    "blank.y = 5.0\n",
    "\n",
    "print(blank.x,blank.y)"
   ]
  }
 ],
 "metadata": {
  "kernelspec": {
   "display_name": "Python 3",
   "language": "python",
   "name": "python3"
  },
  "language_info": {
   "codemirror_mode": {
    "name": "ipython",
    "version": 3
   },
   "file_extension": ".py",
   "mimetype": "text/x-python",
   "name": "python",
   "nbconvert_exporter": "python",
   "pygments_lexer": "ipython3",
   "version": "3.11.0"
  },
  "orig_nbformat": 4,
  "vscode": {
   "interpreter": {
    "hash": "52634da84371cba311ea128a5ea7cdc41ff074b781779e754b270ff9f8153cee"
   }
  }
 },
 "nbformat": 4,
 "nbformat_minor": 2
}
